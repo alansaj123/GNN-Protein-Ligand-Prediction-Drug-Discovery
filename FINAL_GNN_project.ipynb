{
  "nbformat": 4,
  "nbformat_minor": 0,
  "metadata": {
    "colab": {
      "provenance": []
    },
    "kernelspec": {
      "name": "python3",
      "display_name": "Python 3"
    },
    "language_info": {
      "name": "python"
    }
  },
  "cells": [
    {
      "cell_type": "markdown",
      "source": [
        "# Package Installation and Environment Initialization"
      ],
      "metadata": {
        "id": "FCCG8j2GEiav"
      }
    },
    {
      "cell_type": "code",
      "source": [
        "!pip install torch-geometric --quiet\n",
        "!pip install torch --quiet\n",
        "!pip install pandas --quiet\n",
        "!pip install rdkit --quiet\n",
        "!pip install numpy --quiet\n",
        "!pip install matplotlib --quiet\n",
        "!pip install seaborn --quiet"
      ],
      "metadata": {
        "colab": {
          "base_uri": "https://localhost:8080/"
        },
        "id": "C9qYkqq9EsPo",
        "outputId": "a45defc5-598c-4cfd-e8cb-8796716188fa"
      },
      "execution_count": null,
      "outputs": [
        {
          "output_type": "stream",
          "name": "stdout",
          "text": [
            "\u001b[2K     \u001b[90m━━━━━━━━━━━━━━━━━━━━━━━━━━━━━━━━━━━━━━━━\u001b[0m \u001b[32m63.1/63.1 kB\u001b[0m \u001b[31m1.6 MB/s\u001b[0m eta \u001b[36m0:00:00\u001b[0m\n",
            "\u001b[2K   \u001b[90m━━━━━━━━━━━━━━━━━━━━━━━━━━━━━━━━━━━━━━━━\u001b[0m \u001b[32m1.1/1.1 MB\u001b[0m \u001b[31m8.4 MB/s\u001b[0m eta \u001b[36m0:00:00\u001b[0m\n",
            "\u001b[2K   \u001b[90m━━━━━━━━━━━━━━━━━━━━━━━━━━━━━━━━━━━━━━━━\u001b[0m \u001b[32m34.2/34.2 MB\u001b[0m \u001b[31m33.0 MB/s\u001b[0m eta \u001b[36m0:00:00\u001b[0m\n",
            "\u001b[?25h"
          ]
        }
      ]
    },
    {
      "cell_type": "code",
      "source": [
        "import torch\n",
        "import torch_geometric\n",
        "import torch.nn as nn\n",
        "from torch.nn import Linear\n",
        "import torch.nn.functional as F\n",
        "from torch_geometric.data import Data\n",
        "from torch_geometric.nn import GCNConv\n",
        "from torch_geometric.data import Dataset\n",
        "from torch_geometric.data import DataLoader\n",
        "from torch_geometric.nn import global_mean_pool\n",
        "import torch_geometric.nn as pyg_nn\n",
        "from rdkit import Chem\n",
        "from rdkit.Chem import Descriptors, Draw\n",
        "import pandas as pd\n",
        "import numpy as np\n",
        "import matplotlib.pyplot as plt\n",
        "import seaborn as sns\n",
        "import random\n",
        "from sklearn.model_selection import train_test_split\n",
        "from torch_geometric.data import Batch\n",
        "from torch_geometric.loader import DenseDataLoader\n",
        "from sklearn.preprocessing import LabelEncoder"
      ],
      "metadata": {
        "id": "qERLGywqEyjU"
      },
      "execution_count": 21,
      "outputs": []
    },
    {
      "cell_type": "code",
      "source": [
        "device = torch.device('cuda' if torch.cuda.is_available() else 'cpu')\n",
        "print(device)"
      ],
      "metadata": {
        "id": "VHyGJYh0pRQg",
        "colab": {
          "base_uri": "https://localhost:8080/"
        },
        "outputId": "efa341a2-0609-4695-b803-96f4e8a8dfd8"
      },
      "execution_count": null,
      "outputs": [
        {
          "output_type": "stream",
          "name": "stdout",
          "text": [
            "cpu\n"
          ]
        }
      ]
    },
    {
      "cell_type": "code",
      "source": [
        "pd.set_option(\"display.max_colwidth\", None)"
      ],
      "metadata": {
        "id": "UvyWI7qPFJqH"
      },
      "execution_count": null,
      "outputs": []
    },
    {
      "cell_type": "markdown",
      "source": [
        "# Data Loading & Initial Exploration"
      ],
      "metadata": {
        "id": "blUfNzK1FNnY"
      }
    },
    {
      "cell_type": "code",
      "source": [
        "from google.colab import drive\n",
        "drive.mount('/content/drive')"
      ],
      "metadata": {
        "id": "Y4AAIytAFSYQ",
        "colab": {
          "base_uri": "https://localhost:8080/"
        },
        "outputId": "3143c4b4-85fd-4bf4-a240-c40a70a72263"
      },
      "execution_count": 9,
      "outputs": [
        {
          "output_type": "stream",
          "name": "stdout",
          "text": [
            "Mounted at /content/drive\n"
          ]
        }
      ]
    },
    {
      "cell_type": "code",
      "source": [
        "# Path to the train dataset\n",
        "file_path = '/content/drive/My Drive/GNN Project Materials/train_dataset.csv'\n",
        "\n",
        "# Load the CSV file into a DataFrame\n",
        "train_df = pd.read_csv(file_path)\n",
        "\n",
        "# Display the first few rows\n",
        "print(train_df.head())"
      ],
      "metadata": {
        "colab": {
          "base_uri": "https://localhost:8080/"
        },
        "id": "eDDVqYz2FRfi",
        "outputId": "c9568986-c64c-4aae-ad85-ae8d62c110cf"
      },
      "execution_count": 10,
      "outputs": [
        {
          "output_type": "stream",
          "name": "stdout",
          "text": [
            "   id                            buildingblock1_smiles buildingblock2_smiles  \\\n",
            "0   0  C#CC[C@@H](CC(=O)O)NC(=O)OCC1c2ccccc2-c2ccccc21  C#CCOc1ccc(CN)cc1.Cl   \n",
            "1   1  C#CC[C@@H](CC(=O)O)NC(=O)OCC1c2ccccc2-c2ccccc21  C#CCOc1ccc(CN)cc1.Cl   \n",
            "2   2  C#CC[C@@H](CC(=O)O)NC(=O)OCC1c2ccccc2-c2ccccc21  C#CCOc1ccc(CN)cc1.Cl   \n",
            "3   3  C#CC[C@@H](CC(=O)O)NC(=O)OCC1c2ccccc2-c2ccccc21  C#CCOc1ccc(CN)cc1.Cl   \n",
            "4   4  C#CC[C@@H](CC(=O)O)NC(=O)OCC1c2ccccc2-c2ccccc21  C#CCOc1ccc(CN)cc1.Cl   \n",
            "\n",
            "     buildingblock3_smiles  \\\n",
            "0  Br.Br.NCC1CCCN1c1cccnn1   \n",
            "1  Br.Br.NCC1CCCN1c1cccnn1   \n",
            "2  Br.Br.NCC1CCCN1c1cccnn1   \n",
            "3        Br.NCc1cccc(Br)n1   \n",
            "4        Br.NCc1cccc(Br)n1   \n",
            "\n",
            "                                                          molecule_smiles  \\\n",
            "0  C#CCOc1ccc(CNc2nc(NCC3CCCN3c3cccnn3)nc(N[C@@H](CC#C)CC(=O)N[Dy])n2)cc1   \n",
            "1  C#CCOc1ccc(CNc2nc(NCC3CCCN3c3cccnn3)nc(N[C@@H](CC#C)CC(=O)N[Dy])n2)cc1   \n",
            "2  C#CCOc1ccc(CNc2nc(NCC3CCCN3c3cccnn3)nc(N[C@@H](CC#C)CC(=O)N[Dy])n2)cc1   \n",
            "3     C#CCOc1ccc(CNc2nc(NCc3cccc(Br)n3)nc(N[C@@H](CC#C)CC(=O)N[Dy])n2)cc1   \n",
            "4     C#CCOc1ccc(CNc2nc(NCc3cccc(Br)n3)nc(N[C@@H](CC#C)CC(=O)N[Dy])n2)cc1   \n",
            "\n",
            "  protein_name  binds      mol_wt    logP  rotamers  \n",
            "0         BRD4      0  703.192320  2.1410     16384  \n",
            "1          HSA      0  703.192320  2.1410     16384  \n",
            "2          sEH      0  703.192320  2.1410     16384  \n",
            "3         BRD4      0  711.049734  3.0397      8192  \n",
            "4          HSA      0  711.049734  3.0397      8192  \n"
          ]
        }
      ]
    },
    {
      "cell_type": "code",
      "source": [
        "print(train_df.count())"
      ],
      "metadata": {
        "colab": {
          "base_uri": "https://localhost:8080/"
        },
        "id": "F9w4-3MII07q",
        "outputId": "4309be2f-7291-41f7-a6b3-c37dae491eb6"
      },
      "execution_count": 11,
      "outputs": [
        {
          "output_type": "stream",
          "name": "stdout",
          "text": [
            "id                       5246830\n",
            "buildingblock1_smiles    5246830\n",
            "buildingblock2_smiles    5246830\n",
            "buildingblock3_smiles    5246830\n",
            "molecule_smiles          5246830\n",
            "protein_name             5246830\n",
            "binds                    5246830\n",
            "mol_wt                   5246830\n",
            "logP                     5246830\n",
            "rotamers                 5246830\n",
            "dtype: int64\n"
          ]
        }
      ]
    },
    {
      "cell_type": "code",
      "source": [
        "# Drop building block SMILES columns\n",
        "train_df.drop(columns=['buildingblock1_smiles', 'buildingblock2_smiles', 'buildingblock3_smiles'], inplace=True)"
      ],
      "metadata": {
        "id": "hSVl5vdrJPWa"
      },
      "execution_count": 12,
      "outputs": []
    },
    {
      "cell_type": "markdown",
      "source": [
        "# Data Preprocessing"
      ],
      "metadata": {
        "id": "26BnHYlJjD6K"
      }
    },
    {
      "cell_type": "markdown",
      "source": [
        "### Addressing Target Imbalance"
      ],
      "metadata": {
        "id": "xvBvYhfcdRU0"
      }
    },
    {
      "cell_type": "code",
      "source": [
        "# Check unique values in the 'binds' column\n",
        "print(train_df['binds'].value_counts())"
      ],
      "metadata": {
        "colab": {
          "base_uri": "https://localhost:8080/"
        },
        "id": "u2xXI_LaOCB6",
        "outputId": "d22edd67-8dfe-49a1-a11f-2ffd79ff5dc2"
      },
      "execution_count": 13,
      "outputs": [
        {
          "output_type": "stream",
          "name": "stdout",
          "text": [
            "binds\n",
            "0    5236321\n",
            "1      10509\n",
            "Name: count, dtype: int64\n"
          ]
        }
      ]
    },
    {
      "cell_type": "code",
      "source": [
        "# Step 1: Separate the data into two parts: one for binds = 0 and one for binds = 1\n",
        "binds_0_df = train_df[train_df['binds'] == 0]\n",
        "binds_1_df = train_df[train_df['binds'] == 1]\n",
        "\n",
        "# Step 2: Downsample binds = 0 to match the number of binds = 1\n",
        "binds_0_downsampled_df = binds_0_df.sample(n=len(binds_1_df), random_state=42)\n",
        "\n",
        "# Step 3: Combine the downsampled binds = 0 data with binds = 1 data\n",
        "balanced_df = pd.concat([binds_0_downsampled_df, binds_1_df])\n",
        "\n",
        "# Step 4: Shuffle the final dataset to mix the rows\n",
        "balanced_df = balanced_df.sample(frac=1, random_state=42).reset_index(drop=True)\n",
        "\n",
        "# Step 5: Verify the shape and class distribution\n",
        "print(f\"Balanced dataset shape: {balanced_df.shape}\")\n",
        "print(f\"Class distribution in balanced dataset: {balanced_df['binds'].value_counts()}\")\n",
        "\n",
        "# Step 6: Show the first few rows of the balanced dataset\n",
        "balanced_df.head()"
      ],
      "metadata": {
        "colab": {
          "base_uri": "https://localhost:8080/",
          "height": 293
        },
        "id": "F2nQd7PLUBAj",
        "outputId": "bbf7f403-9b48-4fd7-d4e8-da968d873dca"
      },
      "execution_count": 14,
      "outputs": [
        {
          "output_type": "stream",
          "name": "stdout",
          "text": [
            "Balanced dataset shape: (21018, 7)\n",
            "Class distribution in balanced dataset: binds\n",
            "0    10509\n",
            "1    10509\n",
            "Name: count, dtype: int64\n"
          ]
        },
        {
          "output_type": "execute_result",
          "data": {
            "text/plain": [
              "        id  \\\n",
              "0  3566327   \n",
              "1  4617174   \n",
              "2  1425402   \n",
              "3   959535   \n",
              "4   617223   \n",
              "\n",
              "                                                               molecule_smiles  \\\n",
              "0         C#CC[C@H](CC(=O)N[Dy])Nc1nc(NCC2Cc3ccccc3NC2=O)nc(Nc2ccc(Br)nc2OC)n1   \n",
              "1          C#CC[C@H](Nc1nc(NCc2ccc(OC)c(OC)c2C)nc(Nc2ccc(O)cc2Cl)n1)C(=O)N[Dy]   \n",
              "2       C#CC[C@@H](Nc1nc(NCc2ccccc2-c2cnn(C)c2)nc(Nc2cccc(Br)c2C)n1)C(=O)N[Dy]   \n",
              "3  C#CC[C@@H](CC(=O)N[Dy])Nc1nc(NCc2ccc(C)cc2OC2CCOC2)nc(Nc2ccc3c(c2)CNC3=O)n1   \n",
              "4        C#CC[C@@H](CC(=O)N[Dy])Nc1nc(NCCNC(=O)c2ccno2)nc(Nc2nc3c(C)cccc3s2)n1   \n",
              "\n",
              "  protein_name  binds      mol_wt     logP  rotamers  \n",
              "0          sEH      0  742.055548  2.77860      2048  \n",
              "1         BRD4      1  674.094830  3.29622      2048  \n",
              "2         BRD4      0  722.065718  4.08302      1024  \n",
              "3         BRD4      1  719.176001  2.72122      4096  \n",
              "4         BRD4      0  683.096705  2.13762      4096  "
            ],
            "text/html": [
              "\n",
              "  <div id=\"df-c0fb8633-6537-475c-a167-0664e67792ec\" class=\"colab-df-container\">\n",
              "    <div>\n",
              "<style scoped>\n",
              "    .dataframe tbody tr th:only-of-type {\n",
              "        vertical-align: middle;\n",
              "    }\n",
              "\n",
              "    .dataframe tbody tr th {\n",
              "        vertical-align: top;\n",
              "    }\n",
              "\n",
              "    .dataframe thead th {\n",
              "        text-align: right;\n",
              "    }\n",
              "</style>\n",
              "<table border=\"1\" class=\"dataframe\">\n",
              "  <thead>\n",
              "    <tr style=\"text-align: right;\">\n",
              "      <th></th>\n",
              "      <th>id</th>\n",
              "      <th>molecule_smiles</th>\n",
              "      <th>protein_name</th>\n",
              "      <th>binds</th>\n",
              "      <th>mol_wt</th>\n",
              "      <th>logP</th>\n",
              "      <th>rotamers</th>\n",
              "    </tr>\n",
              "  </thead>\n",
              "  <tbody>\n",
              "    <tr>\n",
              "      <th>0</th>\n",
              "      <td>3566327</td>\n",
              "      <td>C#CC[C@H](CC(=O)N[Dy])Nc1nc(NCC2Cc3ccccc3NC2=O)nc(Nc2ccc(Br)nc2OC)n1</td>\n",
              "      <td>sEH</td>\n",
              "      <td>0</td>\n",
              "      <td>742.055548</td>\n",
              "      <td>2.77860</td>\n",
              "      <td>2048</td>\n",
              "    </tr>\n",
              "    <tr>\n",
              "      <th>1</th>\n",
              "      <td>4617174</td>\n",
              "      <td>C#CC[C@H](Nc1nc(NCc2ccc(OC)c(OC)c2C)nc(Nc2ccc(O)cc2Cl)n1)C(=O)N[Dy]</td>\n",
              "      <td>BRD4</td>\n",
              "      <td>1</td>\n",
              "      <td>674.094830</td>\n",
              "      <td>3.29622</td>\n",
              "      <td>2048</td>\n",
              "    </tr>\n",
              "    <tr>\n",
              "      <th>2</th>\n",
              "      <td>1425402</td>\n",
              "      <td>C#CC[C@@H](Nc1nc(NCc2ccccc2-c2cnn(C)c2)nc(Nc2cccc(Br)c2C)n1)C(=O)N[Dy]</td>\n",
              "      <td>BRD4</td>\n",
              "      <td>0</td>\n",
              "      <td>722.065718</td>\n",
              "      <td>4.08302</td>\n",
              "      <td>1024</td>\n",
              "    </tr>\n",
              "    <tr>\n",
              "      <th>3</th>\n",
              "      <td>959535</td>\n",
              "      <td>C#CC[C@@H](CC(=O)N[Dy])Nc1nc(NCc2ccc(C)cc2OC2CCOC2)nc(Nc2ccc3c(c2)CNC3=O)n1</td>\n",
              "      <td>BRD4</td>\n",
              "      <td>1</td>\n",
              "      <td>719.176001</td>\n",
              "      <td>2.72122</td>\n",
              "      <td>4096</td>\n",
              "    </tr>\n",
              "    <tr>\n",
              "      <th>4</th>\n",
              "      <td>617223</td>\n",
              "      <td>C#CC[C@@H](CC(=O)N[Dy])Nc1nc(NCCNC(=O)c2ccno2)nc(Nc2nc3c(C)cccc3s2)n1</td>\n",
              "      <td>BRD4</td>\n",
              "      <td>0</td>\n",
              "      <td>683.096705</td>\n",
              "      <td>2.13762</td>\n",
              "      <td>4096</td>\n",
              "    </tr>\n",
              "  </tbody>\n",
              "</table>\n",
              "</div>\n",
              "    <div class=\"colab-df-buttons\">\n",
              "\n",
              "  <div class=\"colab-df-container\">\n",
              "    <button class=\"colab-df-convert\" onclick=\"convertToInteractive('df-c0fb8633-6537-475c-a167-0664e67792ec')\"\n",
              "            title=\"Convert this dataframe to an interactive table.\"\n",
              "            style=\"display:none;\">\n",
              "\n",
              "  <svg xmlns=\"http://www.w3.org/2000/svg\" height=\"24px\" viewBox=\"0 -960 960 960\">\n",
              "    <path d=\"M120-120v-720h720v720H120Zm60-500h600v-160H180v160Zm220 220h160v-160H400v160Zm0 220h160v-160H400v160ZM180-400h160v-160H180v160Zm440 0h160v-160H620v160ZM180-180h160v-160H180v160Zm440 0h160v-160H620v160Z\"/>\n",
              "  </svg>\n",
              "    </button>\n",
              "\n",
              "  <style>\n",
              "    .colab-df-container {\n",
              "      display:flex;\n",
              "      gap: 12px;\n",
              "    }\n",
              "\n",
              "    .colab-df-convert {\n",
              "      background-color: #E8F0FE;\n",
              "      border: none;\n",
              "      border-radius: 50%;\n",
              "      cursor: pointer;\n",
              "      display: none;\n",
              "      fill: #1967D2;\n",
              "      height: 32px;\n",
              "      padding: 0 0 0 0;\n",
              "      width: 32px;\n",
              "    }\n",
              "\n",
              "    .colab-df-convert:hover {\n",
              "      background-color: #E2EBFA;\n",
              "      box-shadow: 0px 1px 2px rgba(60, 64, 67, 0.3), 0px 1px 3px 1px rgba(60, 64, 67, 0.15);\n",
              "      fill: #174EA6;\n",
              "    }\n",
              "\n",
              "    .colab-df-buttons div {\n",
              "      margin-bottom: 4px;\n",
              "    }\n",
              "\n",
              "    [theme=dark] .colab-df-convert {\n",
              "      background-color: #3B4455;\n",
              "      fill: #D2E3FC;\n",
              "    }\n",
              "\n",
              "    [theme=dark] .colab-df-convert:hover {\n",
              "      background-color: #434B5C;\n",
              "      box-shadow: 0px 1px 3px 1px rgba(0, 0, 0, 0.15);\n",
              "      filter: drop-shadow(0px 1px 2px rgba(0, 0, 0, 0.3));\n",
              "      fill: #FFFFFF;\n",
              "    }\n",
              "  </style>\n",
              "\n",
              "    <script>\n",
              "      const buttonEl =\n",
              "        document.querySelector('#df-c0fb8633-6537-475c-a167-0664e67792ec button.colab-df-convert');\n",
              "      buttonEl.style.display =\n",
              "        google.colab.kernel.accessAllowed ? 'block' : 'none';\n",
              "\n",
              "      async function convertToInteractive(key) {\n",
              "        const element = document.querySelector('#df-c0fb8633-6537-475c-a167-0664e67792ec');\n",
              "        const dataTable =\n",
              "          await google.colab.kernel.invokeFunction('convertToInteractive',\n",
              "                                                    [key], {});\n",
              "        if (!dataTable) return;\n",
              "\n",
              "        const docLinkHtml = 'Like what you see? Visit the ' +\n",
              "          '<a target=\"_blank\" href=https://colab.research.google.com/notebooks/data_table.ipynb>data table notebook</a>'\n",
              "          + ' to learn more about interactive tables.';\n",
              "        element.innerHTML = '';\n",
              "        dataTable['output_type'] = 'display_data';\n",
              "        await google.colab.output.renderOutput(dataTable, element);\n",
              "        const docLink = document.createElement('div');\n",
              "        docLink.innerHTML = docLinkHtml;\n",
              "        element.appendChild(docLink);\n",
              "      }\n",
              "    </script>\n",
              "  </div>\n",
              "\n",
              "\n",
              "<div id=\"df-82110e02-2715-4e85-a409-1b6651f75e5b\">\n",
              "  <button class=\"colab-df-quickchart\" onclick=\"quickchart('df-82110e02-2715-4e85-a409-1b6651f75e5b')\"\n",
              "            title=\"Suggest charts\"\n",
              "            style=\"display:none;\">\n",
              "\n",
              "<svg xmlns=\"http://www.w3.org/2000/svg\" height=\"24px\"viewBox=\"0 0 24 24\"\n",
              "     width=\"24px\">\n",
              "    <g>\n",
              "        <path d=\"M19 3H5c-1.1 0-2 .9-2 2v14c0 1.1.9 2 2 2h14c1.1 0 2-.9 2-2V5c0-1.1-.9-2-2-2zM9 17H7v-7h2v7zm4 0h-2V7h2v10zm4 0h-2v-4h2v4z\"/>\n",
              "    </g>\n",
              "</svg>\n",
              "  </button>\n",
              "\n",
              "<style>\n",
              "  .colab-df-quickchart {\n",
              "      --bg-color: #E8F0FE;\n",
              "      --fill-color: #1967D2;\n",
              "      --hover-bg-color: #E2EBFA;\n",
              "      --hover-fill-color: #174EA6;\n",
              "      --disabled-fill-color: #AAA;\n",
              "      --disabled-bg-color: #DDD;\n",
              "  }\n",
              "\n",
              "  [theme=dark] .colab-df-quickchart {\n",
              "      --bg-color: #3B4455;\n",
              "      --fill-color: #D2E3FC;\n",
              "      --hover-bg-color: #434B5C;\n",
              "      --hover-fill-color: #FFFFFF;\n",
              "      --disabled-bg-color: #3B4455;\n",
              "      --disabled-fill-color: #666;\n",
              "  }\n",
              "\n",
              "  .colab-df-quickchart {\n",
              "    background-color: var(--bg-color);\n",
              "    border: none;\n",
              "    border-radius: 50%;\n",
              "    cursor: pointer;\n",
              "    display: none;\n",
              "    fill: var(--fill-color);\n",
              "    height: 32px;\n",
              "    padding: 0;\n",
              "    width: 32px;\n",
              "  }\n",
              "\n",
              "  .colab-df-quickchart:hover {\n",
              "    background-color: var(--hover-bg-color);\n",
              "    box-shadow: 0 1px 2px rgba(60, 64, 67, 0.3), 0 1px 3px 1px rgba(60, 64, 67, 0.15);\n",
              "    fill: var(--button-hover-fill-color);\n",
              "  }\n",
              "\n",
              "  .colab-df-quickchart-complete:disabled,\n",
              "  .colab-df-quickchart-complete:disabled:hover {\n",
              "    background-color: var(--disabled-bg-color);\n",
              "    fill: var(--disabled-fill-color);\n",
              "    box-shadow: none;\n",
              "  }\n",
              "\n",
              "  .colab-df-spinner {\n",
              "    border: 2px solid var(--fill-color);\n",
              "    border-color: transparent;\n",
              "    border-bottom-color: var(--fill-color);\n",
              "    animation:\n",
              "      spin 1s steps(1) infinite;\n",
              "  }\n",
              "\n",
              "  @keyframes spin {\n",
              "    0% {\n",
              "      border-color: transparent;\n",
              "      border-bottom-color: var(--fill-color);\n",
              "      border-left-color: var(--fill-color);\n",
              "    }\n",
              "    20% {\n",
              "      border-color: transparent;\n",
              "      border-left-color: var(--fill-color);\n",
              "      border-top-color: var(--fill-color);\n",
              "    }\n",
              "    30% {\n",
              "      border-color: transparent;\n",
              "      border-left-color: var(--fill-color);\n",
              "      border-top-color: var(--fill-color);\n",
              "      border-right-color: var(--fill-color);\n",
              "    }\n",
              "    40% {\n",
              "      border-color: transparent;\n",
              "      border-right-color: var(--fill-color);\n",
              "      border-top-color: var(--fill-color);\n",
              "    }\n",
              "    60% {\n",
              "      border-color: transparent;\n",
              "      border-right-color: var(--fill-color);\n",
              "    }\n",
              "    80% {\n",
              "      border-color: transparent;\n",
              "      border-right-color: var(--fill-color);\n",
              "      border-bottom-color: var(--fill-color);\n",
              "    }\n",
              "    90% {\n",
              "      border-color: transparent;\n",
              "      border-bottom-color: var(--fill-color);\n",
              "    }\n",
              "  }\n",
              "</style>\n",
              "\n",
              "  <script>\n",
              "    async function quickchart(key) {\n",
              "      const quickchartButtonEl =\n",
              "        document.querySelector('#' + key + ' button');\n",
              "      quickchartButtonEl.disabled = true;  // To prevent multiple clicks.\n",
              "      quickchartButtonEl.classList.add('colab-df-spinner');\n",
              "      try {\n",
              "        const charts = await google.colab.kernel.invokeFunction(\n",
              "            'suggestCharts', [key], {});\n",
              "      } catch (error) {\n",
              "        console.error('Error during call to suggestCharts:', error);\n",
              "      }\n",
              "      quickchartButtonEl.classList.remove('colab-df-spinner');\n",
              "      quickchartButtonEl.classList.add('colab-df-quickchart-complete');\n",
              "    }\n",
              "    (() => {\n",
              "      let quickchartButtonEl =\n",
              "        document.querySelector('#df-82110e02-2715-4e85-a409-1b6651f75e5b button');\n",
              "      quickchartButtonEl.style.display =\n",
              "        google.colab.kernel.accessAllowed ? 'block' : 'none';\n",
              "    })();\n",
              "  </script>\n",
              "</div>\n",
              "\n",
              "    </div>\n",
              "  </div>\n"
            ],
            "application/vnd.google.colaboratory.intrinsic+json": {
              "type": "dataframe",
              "variable_name": "balanced_df",
              "summary": "{\n  \"name\": \"balanced_df\",\n  \"rows\": 21018,\n  \"fields\": [\n    {\n      \"column\": \"id\",\n      \"properties\": {\n        \"dtype\": \"number\",\n        \"std\": 1629978,\n        \"min\": 122,\n        \"max\": 5246298,\n        \"num_unique_values\": 21018,\n        \"samples\": [\n          1925437,\n          4116144,\n          1941818\n        ],\n        \"semantic_type\": \"\",\n        \"description\": \"\"\n      }\n    },\n    {\n      \"column\": \"molecule_smiles\",\n      \"properties\": {\n        \"dtype\": \"string\",\n        \"num_unique_values\": 20254,\n        \"samples\": [\n          \"C#CC[C@@H](CC(=O)N[Dy])Nc1nc(Nc2cncc(OC)c2)nc(Nc2nnn[nH]2)n1\",\n          \"C#CC[C@H](CC(=O)N[Dy])Nc1nc(NCC[C@@H]2COC[C@H]2O)nc(NCc2cccc(C(F)(F)F)n2)n1\",\n          \"C#CC[C@H](CC(=O)N[Dy])Nc1nc(NCC2C=CCC2)nc(NC2CCC(=O)CC2)n1\"\n        ],\n        \"semantic_type\": \"\",\n        \"description\": \"\"\n      }\n    },\n    {\n      \"column\": \"protein_name\",\n      \"properties\": {\n        \"dtype\": \"category\",\n        \"num_unique_values\": 3,\n        \"samples\": [\n          \"sEH\",\n          \"BRD4\",\n          \"HSA\"\n        ],\n        \"semantic_type\": \"\",\n        \"description\": \"\"\n      }\n    },\n    {\n      \"column\": \"binds\",\n      \"properties\": {\n        \"dtype\": \"number\",\n        \"std\": 0,\n        \"min\": 0,\n        \"max\": 1,\n        \"num_unique_values\": 2,\n        \"samples\": [\n          1,\n          0\n        ],\n        \"semantic_type\": \"\",\n        \"description\": \"\"\n      }\n    },\n    {\n      \"column\": \"mol_wt\",\n      \"properties\": {\n        \"dtype\": \"number\",\n        \"std\": 54.921384662843046,\n        \"min\": 508.112672744,\n        \"max\": 922.098696532,\n        \"num_unique_values\": 13062,\n        \"samples\": [\n          587.048882612,\n          734.148070184\n        ],\n        \"semantic_type\": \"\",\n        \"description\": \"\"\n      }\n    },\n    {\n      \"column\": \"logP\",\n      \"properties\": {\n        \"dtype\": \"number\",\n        \"std\": 1.3173996906390937,\n        \"min\": -2.777399999999996,\n        \"max\": 8.324920000000002,\n        \"num_unique_values\": 16987,\n        \"samples\": [\n          6.749920000000005,\n          3.052420000000001\n        ],\n        \"semantic_type\": \"\",\n        \"description\": \"\"\n      }\n    },\n    {\n      \"column\": \"rotamers\",\n      \"properties\": {\n        \"dtype\": \"number\",\n        \"std\": 10996,\n        \"min\": 128,\n        \"max\": 524288,\n        \"num_unique_values\": 13,\n        \"samples\": [\n          262144,\n          131072\n        ],\n        \"semantic_type\": \"\",\n        \"description\": \"\"\n      }\n    }\n  ]\n}"
            }
          },
          "metadata": {},
          "execution_count": 14
        }
      ]
    },
    {
      "cell_type": "code",
      "source": [
        "# Save the sampled dataset to Drive\n",
        "sampled_file_path = '/content/drive/My Drive/GNN Project Materials/sampled_train_dataset.csv'\n",
        "balanced_df.to_csv(sampled_file_path, index=False)\n",
        "\n",
        "# Confirm file has been saved\n",
        "print(f\"Sampled dataset saved to: {sampled_file_path}\")"
      ],
      "metadata": {
        "colab": {
          "base_uri": "https://localhost:8080/"
        },
        "id": "cVmIazpnKhk7",
        "outputId": "0ba3db7e-1e82-4b7c-92df-cb212c0b3053"
      },
      "execution_count": 15,
      "outputs": [
        {
          "output_type": "stream",
          "name": "stdout",
          "text": [
            "Sampled dataset saved to: /content/drive/My Drive/GNN Project Materials/sampled_train_dataset.csv\n"
          ]
        }
      ]
    },
    {
      "cell_type": "code",
      "source": [
        "print(balanced_df.count())"
      ],
      "metadata": {
        "colab": {
          "base_uri": "https://localhost:8080/"
        },
        "id": "uUk62Lz2MGAK",
        "outputId": "e2b7b6d4-c324-41a7-ed1e-ef5e953da524"
      },
      "execution_count": 16,
      "outputs": [
        {
          "output_type": "stream",
          "name": "stdout",
          "text": [
            "id                 21018\n",
            "molecule_smiles    21018\n",
            "protein_name       21018\n",
            "binds              21018\n",
            "mol_wt             21018\n",
            "logP               21018\n",
            "rotamers           21018\n",
            "dtype: int64\n"
          ]
        }
      ]
    },
    {
      "cell_type": "code",
      "source": [
        "print(balanced_df['binds'].value_counts())"
      ],
      "metadata": {
        "colab": {
          "base_uri": "https://localhost:8080/"
        },
        "id": "IBKe7ZeTOJXI",
        "outputId": "88b9f9c2-cc4e-4b87-f17c-f41a619eac30"
      },
      "execution_count": 17,
      "outputs": [
        {
          "output_type": "stream",
          "name": "stdout",
          "text": [
            "binds\n",
            "0    10509\n",
            "1    10509\n",
            "Name: count, dtype: int64\n"
          ]
        }
      ]
    },
    {
      "cell_type": "code",
      "source": [
        "# Ensure all SMILES are strings and not NaN\n",
        "balanced_df['molecule_smiles'] = balanced_df['molecule_smiles'].fillna(\"\").astype(str)\n",
        "\n",
        "# Check that every item is indeed a string\n",
        "print(balanced_df['molecule_smiles'].apply(type).unique())  # Should print <class 'str'>"
      ],
      "metadata": {
        "colab": {
          "base_uri": "https://localhost:8080/"
        },
        "id": "QUGyaF-F3iE6",
        "outputId": "c53b0d29-5774-48c1-f8b0-dc30e2eb1217"
      },
      "execution_count": 18,
      "outputs": [
        {
          "output_type": "stream",
          "name": "stdout",
          "text": [
            "[<class 'str'>]\n"
          ]
        }
      ]
    },
    {
      "cell_type": "markdown",
      "source": [
        "## Converting SMILES to Molecular Graphs"
      ],
      "metadata": {
        "id": "mSObwejlMuNJ"
      }
    },
    {
      "cell_type": "code",
      "source": [
        "# Encode proteins once for the entire dataset\n",
        "proteins = balanced_df[\"protein_name\"].unique()  # Extract unique protein names\n",
        "label_encoder = LabelEncoder()\n",
        "label_encoder.fit(proteins)\n",
        "\n",
        "# Store the encoded proteins for easy access\n",
        "protein_mapping = {protein: label_encoder.transform([protein])[0] for protein in proteins}"
      ],
      "metadata": {
        "id": "0OwAyIJcLDbQ"
      },
      "execution_count": 22,
      "outputs": []
    },
    {
      "cell_type": "code",
      "source": [
        "def smiles_to_graph_with_protein(smiles, protein_name, binds, protein_mapping):\n",
        "    # Parse the SMILES string to create the molecule object\n",
        "    mol = Chem.MolFromSmiles(smiles)\n",
        "    if mol is None:\n",
        "        print(f\"Invalid SMILES string: {smiles}\")\n",
        "        return None\n",
        "\n",
        "    # Initialize lists for atom and bond features\n",
        "    atom_features = []\n",
        "    bond_index = []\n",
        "    bond_features = []\n",
        "\n",
        "    # Extract atom features\n",
        "    for atom in mol.GetAtoms():\n",
        "        features = [\n",
        "            atom.GetAtomicNum(),\n",
        "            atom.GetDegree(),\n",
        "            atom.GetTotalNumHs(),\n",
        "            atom.GetFormalCharge(),\n",
        "            int(atom.GetIsAromatic()),\n",
        "            int(atom.GetHybridization()),\n",
        "            atom.GetMass(),\n",
        "        ]\n",
        "        atom_features.append(features)\n",
        "\n",
        "    # Extract bond features\n",
        "    for bond in mol.GetBonds():\n",
        "        i = bond.GetBeginAtomIdx()\n",
        "        j = bond.GetEndAtomIdx()\n",
        "        bond_index.append((i, j))\n",
        "        bond_index.append((j, i))\n",
        "        bond_features.append([bond.GetBondTypeAsDouble(), int(bond.GetIsAromatic()), bond.IsInRing()])\n",
        "        bond_features.append([bond.GetBondTypeAsDouble(), int(bond.GetIsAromatic()), bond.IsInRing()])\n",
        "\n",
        "    # Handle empty graphs\n",
        "    if len(atom_features) == 0 or len(bond_index) == 0:\n",
        "        print(f\"Skipping invalid SMILES string or empty graph: {smiles}\")\n",
        "        return None\n",
        "\n",
        "    # Convert features to tensors\n",
        "    atom_features = torch.tensor(atom_features, dtype=torch.float)\n",
        "    bond_index = torch.tensor(bond_index, dtype=torch.long).t().contiguous()\n",
        "    bond_features = torch.tensor(bond_features, dtype=torch.float)\n",
        "\n",
        "    # Scalar molecular features\n",
        "    mol_wt = Descriptors.MolWt(mol)\n",
        "    logP = Descriptors.MolLogP(mol)\n",
        "    rotamers = Descriptors.NumRotatableBonds(mol)\n",
        "    tpsa = Descriptors.TPSA(mol)\n",
        "    qed = Descriptors.qed(mol)\n",
        "    scalar_features = torch.tensor([mol_wt, logP, rotamers, tpsa, qed], dtype=torch.float)\n",
        "\n",
        "    # Use pre-encoded protein name (no need for LabelEncoder here)\n",
        "    protein_encoded_tensor = torch.tensor([protein_mapping[protein_name]], dtype=torch.long)\n",
        "\n",
        "    # Create label tensor\n",
        "    if binds is None:\n",
        "        print(f\"No label for molecule: {smiles}\")\n",
        "        return None\n",
        "    label_tensor = torch.tensor([binds], dtype=torch.long)\n",
        "\n",
        "    # Return a Data object\n",
        "    return Data(\n",
        "        x=atom_features,\n",
        "        edge_index=bond_index,\n",
        "        edge_attr=bond_features,\n",
        "        scalar_features=scalar_features.unsqueeze(0),  # Ensure consistent shape\n",
        "        protein_feature=protein_encoded_tensor,        # Ensure consistent shape\n",
        "        y=label_tensor,  # Label tensor\n",
        "    )"
      ],
      "metadata": {
        "id": "XYnbEUFvMdm8"
      },
      "execution_count": 23,
      "outputs": []
    },
    {
      "source": [
        "from sklearn.model_selection import train_test_split\n",
        "from torch_geometric.data import DataLoader\n",
        "\n",
        "# Split the dataset into train and test sets (80% train, 20% test)\n",
        "train_df, test_df = train_test_split(balanced_df, test_size=0.2, random_state=42)\n",
        "\n",
        "# Function to process rows into graph data\n",
        "def create_graph_data(df, protein_mapping):\n",
        "    graph_data_list = []\n",
        "    for i, row in df.iterrows():\n",
        "        graph_data = smiles_to_graph_with_protein(\n",
        "            row[\"molecule_smiles\"], row[\"protein_name\"], row[\"binds\"], protein_mapping\n",
        "        )\n",
        "        if graph_data is not None:\n",
        "            graph_data_list.append(graph_data)\n",
        "    return graph_data_list\n",
        "\n",
        "# Create graph data for train and test sets\n",
        "train_graph_data_list = create_graph_data(train_df, protein_mapping)\n",
        "test_graph_data_list = create_graph_data(test_df, protein_mapping)\n",
        "\n",
        "# Create DataLoaders for batching\n",
        "train_loader = DataLoader(train_graph_data_list, batch_size=32, shuffle=True)\n",
        "test_loader = DataLoader(test_graph_data_list, batch_size=32, shuffle=False)\n"
      ],
      "cell_type": "code",
      "metadata": {
        "colab": {
          "base_uri": "https://localhost:8080/"
        },
        "id": "ejrFmHGNehS6",
        "outputId": "d3ba3e1d-8bb3-43d2-e1a5-1d191fa20622"
      },
      "execution_count": 24,
      "outputs": [
        {
          "output_type": "stream",
          "name": "stderr",
          "text": [
            "/usr/local/lib/python3.11/dist-packages/torch_geometric/deprecation.py:26: UserWarning: 'data.DataLoader' is deprecated, use 'loader.DataLoader' instead\n",
            "  warnings.warn(out)\n"
          ]
        }
      ]
    },
    {
      "cell_type": "markdown",
      "source": [
        "# Building a GCN (Graph Convolutional Network)"
      ],
      "metadata": {
        "id": "PeGwtF0Qg_uB"
      }
    },
    {
      "cell_type": "code",
      "source": [
        "import torch\n",
        "import torch.nn as nn\n",
        "from torch_geometric.nn import GCNConv, global_mean_pool\n",
        "import torch.nn.functional as F\n",
        "\n",
        "class GNNModel(nn.Module):\n",
        "    def __init__(self, num_node_features, num_classes, dropout_rate):\n",
        "        super(GNNModel, self).__init__()\n",
        "        self.conv1 = GCNConv(num_node_features, 64)  # First GCN layer\n",
        "        self.conv2 = GCNConv(64, 32)  # Second GCN layer\n",
        "        self.batch_norm1 = nn.BatchNorm1d(64)  # Batch normalization after conv1\n",
        "        self.batch_norm2 = nn.BatchNorm1d(32)  # Batch normalization after conv2\n",
        "        self.dropout = nn.Dropout(p=dropout_rate)  # Dropout layer\n",
        "        self.fc = nn.Linear(32, num_classes)  # Fully connected layer\n",
        "        self.fc_dropout = nn.Dropout(p=dropout_rate)  # Dropout after FC\n",
        "\n",
        "    def forward(self, data):\n",
        "        x, edge_index, batch = data.x, data.edge_index, data.batch\n",
        "        x = torch.relu(self.conv1(x, edge_index))  # First GCN layer\n",
        "        x = self.batch_norm1(x)  # Apply batch normalization\n",
        "        x = self.dropout(x)  # Apply dropout\n",
        "        x = torch.relu(self.conv2(x, edge_index))  # Second GCN layer\n",
        "        x = self.batch_norm2(x)  # Apply batch normalization\n",
        "        x = self.dropout(x)  # Apply dropout\n",
        "        x = global_mean_pool(x, batch)  # Global pooling\n",
        "        x = self.fc(x)  # Final fully connected layer\n",
        "        x = self.fc_dropout(x)  # Dropout after FC\n",
        "        return x\n"
      ],
      "metadata": {
        "id": "BWFErmNykMLY"
      },
      "execution_count": 25,
      "outputs": []
    },
    {
      "cell_type": "code",
      "source": [
        "import torch\n",
        "import torch.optim as optim\n",
        "import torch.nn as nn\n",
        "from sklearn.metrics import accuracy_score\n",
        "from sklearn.model_selection import KFold\n",
        "from torch_geometric.data import DataLoader\n",
        "\n",
        "# 1. Define a function for training the model with early stopping\n",
        "def train_with_early_stopping(model, data_loader, criterion, optimizer, num_epochs=50, patience=10):\n",
        "    best_val_loss = float('inf')\n",
        "    best_val_accuracy = 0.0\n",
        "    epochs_without_improvement = 0\n",
        "    for epoch in range(num_epochs):\n",
        "        model.train()\n",
        "        running_loss = 0.0\n",
        "        for data in data_loader:\n",
        "            data = data.to(device)  # Ensure data is moved to the correct device\n",
        "            optimizer.zero_grad()\n",
        "\n",
        "            if data.y is None:\n",
        "                print(\"Skipping graph with no label.\")\n",
        "                continue\n",
        "\n",
        "            out = model(data)  # Forward pass\n",
        "            loss = criterion(out, data.y)  # Calculate loss\n",
        "\n",
        "            loss.backward()  # Backpropagation\n",
        "            optimizer.step()  # Update weights\n",
        "\n",
        "            running_loss += loss.item()\n",
        "\n",
        "        avg_loss = running_loss / len(data_loader)\n",
        "        print(f\"Epoch {epoch+1}/{num_epochs}, Loss: {avg_loss}\")\n",
        "\n",
        "        # Early stopping check: monitor validation accuracy\n",
        "        if avg_loss < best_val_loss:\n",
        "            best_val_loss = avg_loss\n",
        "            epochs_without_improvement = 0\n",
        "        else:\n",
        "            epochs_without_improvement += 1\n",
        "\n",
        "        if epochs_without_improvement >= patience:\n",
        "            print(\"Early stopping triggered. Training stopped.\")\n",
        "            break\n",
        "\n",
        "    return model\n",
        "\n",
        "# 2. K-Fold Cross Validation\n",
        "def k_fold_cross_validation(k=5, num_epochs=50, patience=10):\n",
        "    kf = KFold(n_splits=k, shuffle=True, random_state=42)\n",
        "    fold_accuracies = []\n",
        "\n",
        "    for fold, (train_idx, val_idx) in enumerate(kf.split(train_graph_data_list)):\n",
        "        print(f\"\\nFold {fold + 1}/{k}\")\n",
        "\n",
        "        # Create train and validation sets\n",
        "        train_data = [train_graph_data_list[i] for i in train_idx]\n",
        "        val_data = [train_graph_data_list[i] for i in val_idx]\n",
        "\n",
        "        # Create DataLoaders\n",
        "        train_loader = DataLoader(train_data, batch_size=16, shuffle=True)\n",
        "        val_loader = DataLoader(val_data, batch_size=16, shuffle=False)\n",
        "\n",
        "        # Initialize the model, criterion, and optimizer\n",
        "        model = GNNModel(num_node_features=7, num_classes=2, dropout_rate=0.2).to(device)\n",
        "        optimizer = optim.Adam(model.parameters(), lr=0.001, weight_decay=1e-5)\n",
        "        criterion = nn.CrossEntropyLoss()\n",
        "\n",
        "        # Train the model\n",
        "        trained_model = train_with_early_stopping(model, train_loader, criterion, optimizer, num_epochs, patience)\n",
        "\n",
        "        # Evaluate the model on the validation set\n",
        "        trained_model.eval()\n",
        "        val_preds = []\n",
        "        val_labels = []\n",
        "\n",
        "        with torch.no_grad():\n",
        "            for data in val_loader:\n",
        "                data = data.to(device)\n",
        "                if data.y is None:\n",
        "                    continue\n",
        "                out = trained_model(data)\n",
        "                _, predicted = torch.max(out, dim=1)\n",
        "                val_preds.extend(predicted.cpu().numpy())\n",
        "                val_labels.extend(data.y.cpu().numpy())\n",
        "\n",
        "        val_accuracy = accuracy_score(val_labels, val_preds)\n",
        "        print(f\"Fold {fold + 1} - Validation Accuracy: {val_accuracy:.4f}\")\n",
        "        fold_accuracies.append(val_accuracy)\n",
        "\n",
        "    avg_accuracy = sum(fold_accuracies) / k\n",
        "    print(f\"\\nAverage Validation Accuracy over {k} folds: {avg_accuracy:.4f}\")\n",
        "\n",
        "# Run K-Fold Cross-Validation\n",
        "k_fold_cross_validation(k=5, num_epochs=50, patience=5)"
      ],
      "metadata": {
        "colab": {
          "base_uri": "https://localhost:8080/",
          "height": 1000
        },
        "id": "3S3YPRY7pHh-",
        "outputId": "461dfdf4-80ad-4887-cd7c-84c3752a12f8"
      },
      "execution_count": 27,
      "outputs": [
        {
          "output_type": "stream",
          "name": "stdout",
          "text": [
            "\n",
            "Fold 1/5\n"
          ]
        },
        {
          "output_type": "stream",
          "name": "stderr",
          "text": [
            "/usr/local/lib/python3.11/dist-packages/torch_geometric/deprecation.py:26: UserWarning: 'data.DataLoader' is deprecated, use 'loader.DataLoader' instead\n",
            "  warnings.warn(out)\n"
          ]
        },
        {
          "output_type": "stream",
          "name": "stdout",
          "text": [
            "Epoch 1/50, Loss: 0.6761662165560138\n",
            "Epoch 2/50, Loss: 0.6697875984216842\n",
            "Epoch 3/50, Loss: 0.668996815661613\n",
            "Epoch 4/50, Loss: 0.6615954270402543\n",
            "Epoch 5/50, Loss: 0.663035144916471\n",
            "Epoch 6/50, Loss: 0.6637565908193872\n",
            "Epoch 7/50, Loss: 0.6589506368078601\n",
            "Epoch 8/50, Loss: 0.6592473716217045\n",
            "Epoch 9/50, Loss: 0.6552583933868816\n",
            "Epoch 10/50, Loss: 0.6532640633982796\n",
            "Epoch 11/50, Loss: 0.6495934433517502\n",
            "Epoch 12/50, Loss: 0.6506268258043759\n",
            "Epoch 13/50, Loss: 0.6464145071937412\n",
            "Epoch 14/50, Loss: 0.6473129392024595\n",
            "Epoch 15/50, Loss: 0.6426361125587141\n",
            "Epoch 16/50, Loss: 0.6420263056947841\n",
            "Epoch 17/50, Loss: 0.6396305101805153\n",
            "Epoch 18/50, Loss: 0.644463865177243\n",
            "Epoch 19/50, Loss: 0.6399361574834082\n",
            "Epoch 20/50, Loss: 0.6375584654093639\n",
            "Epoch 21/50, Loss: 0.6358930351263561\n",
            "Epoch 22/50, Loss: 0.6336999157804655\n",
            "Epoch 23/50, Loss: 0.6320805711567614\n",
            "Epoch 24/50, Loss: 0.6239674833030678\n",
            "Epoch 25/50, Loss: 0.6264175964734217\n",
            "Epoch 26/50, Loss: 0.6261735613436819\n",
            "Epoch 27/50, Loss: 0.6259278091961932\n",
            "Epoch 28/50, Loss: 0.6236762377509889\n",
            "Epoch 29/50, Loss: 0.6240927061059387\n",
            "Epoch 30/50, Loss: 0.6241296722900286\n",
            "Epoch 31/50, Loss: 0.6212191002334908\n",
            "Epoch 32/50, Loss: 0.625426376581759\n",
            "Epoch 33/50, Loss: 0.6200476060582681\n",
            "Epoch 34/50, Loss: 0.6242395489167657\n",
            "Epoch 35/50, Loss: 0.6210054551803825\n",
            "Epoch 36/50, Loss: 0.6183048490253271\n",
            "Epoch 37/50, Loss: 0.6205347053502884\n",
            "Epoch 38/50, Loss: 0.6178908982401654\n",
            "Epoch 39/50, Loss: 0.6177118526911197\n",
            "Epoch 40/50, Loss: 0.6167387185921709\n",
            "Epoch 41/50, Loss: 0.6176029232183337\n",
            "Epoch 42/50, Loss: 0.6123896074635237\n",
            "Epoch 43/50, Loss: 0.612373713789315\n",
            "Epoch 44/50, Loss: 0.6230226212959652\n",
            "Epoch 45/50, Loss: 0.6202082537938525\n",
            "Epoch 46/50, Loss: 0.6146359561314623\n",
            "Epoch 47/50, Loss: 0.6131182651032165\n",
            "Epoch 48/50, Loss: 0.6149685793555165\n",
            "Early stopping triggered. Training stopped.\n",
            "Fold 1 - Validation Accuracy: 0.6783\n",
            "\n",
            "Fold 2/5\n"
          ]
        },
        {
          "output_type": "stream",
          "name": "stderr",
          "text": [
            "/usr/local/lib/python3.11/dist-packages/torch_geometric/deprecation.py:26: UserWarning: 'data.DataLoader' is deprecated, use 'loader.DataLoader' instead\n",
            "  warnings.warn(out)\n"
          ]
        },
        {
          "output_type": "stream",
          "name": "stdout",
          "text": [
            "Epoch 1/50, Loss: 0.6788958615837143\n",
            "Epoch 2/50, Loss: 0.6662451661015805\n",
            "Epoch 3/50, Loss: 0.6607308638648669\n",
            "Epoch 4/50, Loss: 0.6565869634131614\n",
            "Epoch 5/50, Loss: 0.6557309153388995\n",
            "Epoch 6/50, Loss: 0.6525256295691773\n",
            "Epoch 7/50, Loss: 0.6564639087735402\n",
            "Epoch 8/50, Loss: 0.6503576457358711\n",
            "Epoch 9/50, Loss: 0.6455773200560694\n",
            "Epoch 10/50, Loss: 0.6437951955727249\n",
            "Epoch 11/50, Loss: 0.6435331087758793\n",
            "Epoch 12/50, Loss: 0.6421193688859838\n",
            "Epoch 13/50, Loss: 0.6393642762540779\n",
            "Epoch 14/50, Loss: 0.6336728071131689\n",
            "Epoch 15/50, Loss: 0.6434752948218946\n",
            "Epoch 16/50, Loss: 0.6408239341873618\n",
            "Epoch 17/50, Loss: 0.6372900078256972\n",
            "Epoch 18/50, Loss: 0.6359958152212513\n",
            "Epoch 19/50, Loss: 0.6309537585651974\n",
            "Epoch 20/50, Loss: 0.6343448486679658\n",
            "Epoch 21/50, Loss: 0.6335535803178545\n",
            "Epoch 22/50, Loss: 0.6284372358982685\n",
            "Epoch 23/50, Loss: 0.6336658606206053\n",
            "Epoch 24/50, Loss: 0.6306728111152559\n",
            "Epoch 25/50, Loss: 0.6316482415522463\n",
            "Epoch 26/50, Loss: 0.6298326861277205\n",
            "Epoch 27/50, Loss: 0.6266645720044725\n",
            "Epoch 28/50, Loss: 0.6320777504962917\n",
            "Epoch 29/50, Loss: 0.6240349731249701\n",
            "Epoch 30/50, Loss: 0.6236523577985525\n",
            "Epoch 31/50, Loss: 0.6223504376751631\n",
            "Epoch 32/50, Loss: 0.6284101639789009\n",
            "Epoch 33/50, Loss: 0.6241654175356934\n",
            "Epoch 34/50, Loss: 0.622014842794568\n",
            "Epoch 35/50, Loss: 0.6259666401339201\n",
            "Epoch 36/50, Loss: 0.622145702098978\n",
            "Epoch 37/50, Loss: 0.6263103560942107\n",
            "Epoch 38/50, Loss: 0.6240159304331939\n",
            "Epoch 39/50, Loss: 0.624434646790433\n",
            "Early stopping triggered. Training stopped.\n",
            "Fold 2 - Validation Accuracy: 0.6679\n",
            "\n",
            "Fold 3/5\n"
          ]
        },
        {
          "output_type": "stream",
          "name": "stderr",
          "text": [
            "/usr/local/lib/python3.11/dist-packages/torch_geometric/deprecation.py:26: UserWarning: 'data.DataLoader' is deprecated, use 'loader.DataLoader' instead\n",
            "  warnings.warn(out)\n"
          ]
        },
        {
          "output_type": "stream",
          "name": "stdout",
          "text": [
            "Epoch 1/50, Loss: 0.6788554632422756\n"
          ]
        },
        {
          "output_type": "error",
          "ename": "KeyboardInterrupt",
          "evalue": "",
          "traceback": [
            "\u001b[0;31m---------------------------------------------------------------------------\u001b[0m",
            "\u001b[0;31mKeyboardInterrupt\u001b[0m                         Traceback (most recent call last)",
            "\u001b[0;32m<ipython-input-27-fdcfd2e1f37e>\u001b[0m in \u001b[0;36m<cell line: 0>\u001b[0;34m()\u001b[0m\n\u001b[1;32m     93\u001b[0m \u001b[0;34m\u001b[0m\u001b[0m\n\u001b[1;32m     94\u001b[0m \u001b[0;31m# Run K-Fold Cross-Validation\u001b[0m\u001b[0;34m\u001b[0m\u001b[0;34m\u001b[0m\u001b[0m\n\u001b[0;32m---> 95\u001b[0;31m \u001b[0mk_fold_cross_validation\u001b[0m\u001b[0;34m(\u001b[0m\u001b[0mk\u001b[0m\u001b[0;34m=\u001b[0m\u001b[0;36m5\u001b[0m\u001b[0;34m,\u001b[0m \u001b[0mnum_epochs\u001b[0m\u001b[0;34m=\u001b[0m\u001b[0;36m50\u001b[0m\u001b[0;34m,\u001b[0m \u001b[0mpatience\u001b[0m\u001b[0;34m=\u001b[0m\u001b[0;36m5\u001b[0m\u001b[0;34m)\u001b[0m\u001b[0;34m\u001b[0m\u001b[0;34m\u001b[0m\u001b[0m\n\u001b[0m",
            "\u001b[0;32m<ipython-input-27-fdcfd2e1f37e>\u001b[0m in \u001b[0;36mk_fold_cross_validation\u001b[0;34m(k, num_epochs, patience)\u001b[0m\n\u001b[1;32m     68\u001b[0m \u001b[0;34m\u001b[0m\u001b[0m\n\u001b[1;32m     69\u001b[0m         \u001b[0;31m# Train the model\u001b[0m\u001b[0;34m\u001b[0m\u001b[0;34m\u001b[0m\u001b[0m\n\u001b[0;32m---> 70\u001b[0;31m         \u001b[0mtrained_model\u001b[0m \u001b[0;34m=\u001b[0m \u001b[0mtrain_with_early_stopping\u001b[0m\u001b[0;34m(\u001b[0m\u001b[0mmodel\u001b[0m\u001b[0;34m,\u001b[0m \u001b[0mtrain_loader\u001b[0m\u001b[0;34m,\u001b[0m \u001b[0mcriterion\u001b[0m\u001b[0;34m,\u001b[0m \u001b[0moptimizer\u001b[0m\u001b[0;34m,\u001b[0m \u001b[0mnum_epochs\u001b[0m\u001b[0;34m,\u001b[0m \u001b[0mpatience\u001b[0m\u001b[0;34m)\u001b[0m\u001b[0;34m\u001b[0m\u001b[0;34m\u001b[0m\u001b[0m\n\u001b[0m\u001b[1;32m     71\u001b[0m \u001b[0;34m\u001b[0m\u001b[0m\n\u001b[1;32m     72\u001b[0m         \u001b[0;31m# Evaluate the model on the validation set\u001b[0m\u001b[0;34m\u001b[0m\u001b[0;34m\u001b[0m\u001b[0m\n",
            "\u001b[0;32m<ipython-input-27-fdcfd2e1f37e>\u001b[0m in \u001b[0;36mtrain_with_early_stopping\u001b[0;34m(model, data_loader, criterion, optimizer, num_epochs, patience)\u001b[0m\n\u001b[1;32m     14\u001b[0m         \u001b[0mmodel\u001b[0m\u001b[0;34m.\u001b[0m\u001b[0mtrain\u001b[0m\u001b[0;34m(\u001b[0m\u001b[0;34m)\u001b[0m\u001b[0;34m\u001b[0m\u001b[0;34m\u001b[0m\u001b[0m\n\u001b[1;32m     15\u001b[0m         \u001b[0mrunning_loss\u001b[0m \u001b[0;34m=\u001b[0m \u001b[0;36m0.0\u001b[0m\u001b[0;34m\u001b[0m\u001b[0;34m\u001b[0m\u001b[0m\n\u001b[0;32m---> 16\u001b[0;31m         \u001b[0;32mfor\u001b[0m \u001b[0mdata\u001b[0m \u001b[0;32min\u001b[0m \u001b[0mdata_loader\u001b[0m\u001b[0;34m:\u001b[0m\u001b[0;34m\u001b[0m\u001b[0;34m\u001b[0m\u001b[0m\n\u001b[0m\u001b[1;32m     17\u001b[0m             \u001b[0mdata\u001b[0m \u001b[0;34m=\u001b[0m \u001b[0mdata\u001b[0m\u001b[0;34m.\u001b[0m\u001b[0mto\u001b[0m\u001b[0;34m(\u001b[0m\u001b[0mdevice\u001b[0m\u001b[0;34m)\u001b[0m  \u001b[0;31m# Ensure data is moved to the correct device\u001b[0m\u001b[0;34m\u001b[0m\u001b[0;34m\u001b[0m\u001b[0m\n\u001b[1;32m     18\u001b[0m             \u001b[0moptimizer\u001b[0m\u001b[0;34m.\u001b[0m\u001b[0mzero_grad\u001b[0m\u001b[0;34m(\u001b[0m\u001b[0;34m)\u001b[0m\u001b[0;34m\u001b[0m\u001b[0;34m\u001b[0m\u001b[0m\n",
            "\u001b[0;32m/usr/local/lib/python3.11/dist-packages/torch/utils/data/dataloader.py\u001b[0m in \u001b[0;36m__next__\u001b[0;34m(self)\u001b[0m\n\u001b[1;32m    695\u001b[0m \u001b[0;34m\u001b[0m\u001b[0m\n\u001b[1;32m    696\u001b[0m     \u001b[0;32mdef\u001b[0m \u001b[0m__next__\u001b[0m\u001b[0;34m(\u001b[0m\u001b[0mself\u001b[0m\u001b[0;34m)\u001b[0m \u001b[0;34m->\u001b[0m \u001b[0mAny\u001b[0m\u001b[0;34m:\u001b[0m\u001b[0;34m\u001b[0m\u001b[0;34m\u001b[0m\u001b[0m\n\u001b[0;32m--> 697\u001b[0;31m         \u001b[0;32mwith\u001b[0m \u001b[0mtorch\u001b[0m\u001b[0;34m.\u001b[0m\u001b[0mautograd\u001b[0m\u001b[0;34m.\u001b[0m\u001b[0mprofiler\u001b[0m\u001b[0;34m.\u001b[0m\u001b[0mrecord_function\u001b[0m\u001b[0;34m(\u001b[0m\u001b[0mself\u001b[0m\u001b[0;34m.\u001b[0m\u001b[0m_profile_name\u001b[0m\u001b[0;34m)\u001b[0m\u001b[0;34m:\u001b[0m\u001b[0;34m\u001b[0m\u001b[0;34m\u001b[0m\u001b[0m\n\u001b[0m\u001b[1;32m    698\u001b[0m             \u001b[0;32mif\u001b[0m \u001b[0mself\u001b[0m\u001b[0;34m.\u001b[0m\u001b[0m_sampler_iter\u001b[0m \u001b[0;32mis\u001b[0m \u001b[0;32mNone\u001b[0m\u001b[0;34m:\u001b[0m\u001b[0;34m\u001b[0m\u001b[0;34m\u001b[0m\u001b[0m\n\u001b[1;32m    699\u001b[0m                 \u001b[0;31m# TODO(https://github.com/pytorch/pytorch/issues/76750)\u001b[0m\u001b[0;34m\u001b[0m\u001b[0;34m\u001b[0m\u001b[0m\n",
            "\u001b[0;32m/usr/local/lib/python3.11/dist-packages/torch/autograd/profiler.py\u001b[0m in \u001b[0;36m__exit__\u001b[0;34m(self, exc_type, exc_value, traceback)\u001b[0m\n\u001b[1;32m    748\u001b[0m         \u001b[0;32mif\u001b[0m \u001b[0;32mnot\u001b[0m \u001b[0mtorch\u001b[0m\u001b[0;34m.\u001b[0m\u001b[0mjit\u001b[0m\u001b[0;34m.\u001b[0m\u001b[0mis_scripting\u001b[0m\u001b[0;34m(\u001b[0m\u001b[0;34m)\u001b[0m\u001b[0;34m:\u001b[0m\u001b[0;34m\u001b[0m\u001b[0;34m\u001b[0m\u001b[0m\n\u001b[1;32m    749\u001b[0m             \u001b[0;32mwith\u001b[0m \u001b[0mtorch\u001b[0m\u001b[0;34m.\u001b[0m\u001b[0m_C\u001b[0m\u001b[0;34m.\u001b[0m\u001b[0mDisableTorchFunctionSubclass\u001b[0m\u001b[0;34m(\u001b[0m\u001b[0;34m)\u001b[0m\u001b[0;34m:\u001b[0m\u001b[0;34m\u001b[0m\u001b[0;34m\u001b[0m\u001b[0m\n\u001b[0;32m--> 750\u001b[0;31m                 \u001b[0mtorch\u001b[0m\u001b[0;34m.\u001b[0m\u001b[0mops\u001b[0m\u001b[0;34m.\u001b[0m\u001b[0mprofiler\u001b[0m\u001b[0;34m.\u001b[0m\u001b[0m_record_function_exit\u001b[0m\u001b[0;34m.\u001b[0m\u001b[0m_RecordFunction\u001b[0m\u001b[0;34m(\u001b[0m\u001b[0mrecord\u001b[0m\u001b[0;34m)\u001b[0m\u001b[0;34m\u001b[0m\u001b[0;34m\u001b[0m\u001b[0m\n\u001b[0m\u001b[1;32m    751\u001b[0m         \u001b[0;32melse\u001b[0m\u001b[0;34m:\u001b[0m\u001b[0;34m\u001b[0m\u001b[0;34m\u001b[0m\u001b[0m\n\u001b[1;32m    752\u001b[0m             \u001b[0mtorch\u001b[0m\u001b[0;34m.\u001b[0m\u001b[0mops\u001b[0m\u001b[0;34m.\u001b[0m\u001b[0mprofiler\u001b[0m\u001b[0;34m.\u001b[0m\u001b[0m_record_function_exit\u001b[0m\u001b[0;34m(\u001b[0m\u001b[0mrecord\u001b[0m\u001b[0;34m)\u001b[0m\u001b[0;34m\u001b[0m\u001b[0;34m\u001b[0m\u001b[0m\n",
            "\u001b[0;32m/usr/local/lib/python3.11/dist-packages/torch/_ops.py\u001b[0m in \u001b[0;36m__call__\u001b[0;34m(self, *args, **kwargs)\u001b[0m\n\u001b[1;32m    951\u001b[0m             \u001b[0;32mwith\u001b[0m \u001b[0mself\u001b[0m\u001b[0;34m.\u001b[0m\u001b[0m_register_as_effectful_op_temporarily\u001b[0m\u001b[0;34m(\u001b[0m\u001b[0;34m)\u001b[0m\u001b[0;34m:\u001b[0m\u001b[0;34m\u001b[0m\u001b[0;34m\u001b[0m\u001b[0m\n\u001b[1;32m    952\u001b[0m                 \u001b[0;32mreturn\u001b[0m \u001b[0mself\u001b[0m\u001b[0;34m.\u001b[0m\u001b[0m_dispatch_in_python\u001b[0m\u001b[0;34m(\u001b[0m\u001b[0margs\u001b[0m\u001b[0;34m,\u001b[0m \u001b[0mkwargs\u001b[0m\u001b[0;34m,\u001b[0m \u001b[0mself\u001b[0m\u001b[0;34m.\u001b[0m\u001b[0m_fallthrough_keys\u001b[0m\u001b[0;34m(\u001b[0m\u001b[0;34m)\u001b[0m\u001b[0;34m)\u001b[0m\u001b[0;34m\u001b[0m\u001b[0;34m\u001b[0m\u001b[0m\n\u001b[0;32m--> 953\u001b[0;31m         \u001b[0;32mreturn\u001b[0m \u001b[0mself\u001b[0m\u001b[0;34m.\u001b[0m\u001b[0m_op\u001b[0m\u001b[0;34m(\u001b[0m\u001b[0;34m*\u001b[0m\u001b[0margs\u001b[0m\u001b[0;34m,\u001b[0m \u001b[0;34m**\u001b[0m\u001b[0mkwargs\u001b[0m\u001b[0;34m)\u001b[0m\u001b[0;34m\u001b[0m\u001b[0;34m\u001b[0m\u001b[0m\n\u001b[0m\u001b[1;32m    954\u001b[0m \u001b[0;34m\u001b[0m\u001b[0m\n\u001b[1;32m    955\u001b[0m     \u001b[0;32mdef\u001b[0m \u001b[0m_dispatch_in_python\u001b[0m\u001b[0;34m(\u001b[0m\u001b[0mself\u001b[0m\u001b[0;34m,\u001b[0m \u001b[0margs\u001b[0m\u001b[0;34m,\u001b[0m \u001b[0mkwargs\u001b[0m\u001b[0;34m,\u001b[0m \u001b[0mfallthrough_keys\u001b[0m\u001b[0;34m)\u001b[0m\u001b[0;34m:\u001b[0m\u001b[0;34m\u001b[0m\u001b[0;34m\u001b[0m\u001b[0m\n",
            "\u001b[0;31mKeyboardInterrupt\u001b[0m: "
          ]
        }
      ]
    },
    {
      "cell_type": "code",
      "source": [],
      "metadata": {
        "id": "eIzQH8Wm3lOA"
      },
      "execution_count": null,
      "outputs": []
    }
  ]
}